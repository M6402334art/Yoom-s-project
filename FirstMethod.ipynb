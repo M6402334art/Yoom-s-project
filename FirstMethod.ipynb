{
 "cells": [
  {
   "cell_type": "markdown",
   "metadata": {},
   "source": [
    "***Import libraly***"
   ]
  },
  {
   "cell_type": "code",
   "execution_count": 15,
   "metadata": {},
   "outputs": [],
   "source": [
    "import pandas as pd\n",
    "import matplotlib.pyplot as plt\n",
    "import seaborn as sns\n",
    "import numpy as np\n",
    "\n",
    "from sklearn.model_selection import train_test_split\n",
    "from sklearn.preprocessing import MinMaxScaler, StandardScaler\n",
    "from sklearn.metrics import confusion_matrix, ConfusionMatrixDisplay, accuracy_score\n",
    "\n",
    "from sklearn.linear_model import LogisticRegression\n",
    "from sklearn.neighbors import KNeighborsClassifier\n",
    "from sklearn.tree import DecisionTreeClassifier\n",
    "from sklearn.svm import SVC\n",
    "from sklearn.naive_bayes import GaussianNB\n",
    "\n",
    "import warnings\n",
    "warnings.filterwarnings('ignore')"
   ]
  },
  {
   "cell_type": "markdown",
   "metadata": {},
   "source": [
    "***Read data***"
   ]
  },
  {
   "cell_type": "code",
   "execution_count": 16,
   "metadata": {},
   "outputs": [],
   "source": [
    "g1 = pd.read_csv('files/Good1.csv', nrows=30)\n",
    "g2 = pd.read_csv('files/Good2.csv', nrows=30)\n",
    "g3 = pd.read_csv('files/Good3.csv', nrows=30)\n",
    "g4 = pd.read_csv('files/Good4.csv', nrows=30)\n",
    "g5 = pd.read_csv('files/Good5.csv', nrows=30)\n",
    "g6 = pd.read_csv('files/Good6.csv', nrows=30)\n",
    "g7 = pd.read_csv('files/Good7.csv', nrows=30)\n",
    "g8 = pd.read_csv('files/Good8.csv', nrows=30)\n",
    "g9 = pd.read_csv('files/Good9.csv', nrows=30)\n",
    "g10 = pd.read_csv('files/Good10.csv', nrows=30)\n",
    "g11 = pd.read_csv('files/Good11.csv', nrows=30)\n",
    "g12 = pd.read_csv('files/Good12.csv', nrows=30)\n",
    "g13 = pd.read_csv('files/Good13.csv', nrows=30)\n",
    "g14 = pd.read_csv('files/Good14.csv', nrows=30)\n",
    "g15 = pd.read_csv('files/Good15.csv', nrows=30)\n",
    "g16 = pd.read_csv('files/Good16.csv', nrows=30)\n",
    "g17 = pd.read_csv('files/Good17.csv', nrows=30)\n",
    "g18 = pd.read_csv('files/Good18.csv', nrows=30)\n",
    "g19 = pd.read_csv('files/Good19.csv', nrows=30)\n",
    "g20 = pd.read_csv('files/Good20.csv', nrows=30)\n",
    "g21 = pd.read_csv('files/Good21.csv', nrows=30)\n",
    "g22 = pd.read_csv('files/Good22.csv', nrows=30)\n",
    "g23 = pd.read_csv('files/Good23.csv', nrows=30)\n",
    "g24 = pd.read_csv('files/Good24.csv', nrows=30)\n",
    "g25 = pd.read_csv('files/Good25.csv', nrows=30)\n",
    "g26 = pd.read_csv('files/Good26.csv', nrows=30)\n",
    "g27 = pd.read_csv('files/Good27.csv', nrows=30)\n",
    "g28 = pd.read_csv('files/Good28.csv', nrows=30)\n",
    "g29 = pd.read_csv('files/Good29.csv', nrows=30)\n",
    "g30 = pd.read_csv('files/Good30.csv', nrows=30)\n",
    "b1 = pd.read_csv('files/Bad1.csv', nrows=30)\n",
    "b2 = pd.read_csv('files/Bad2.csv', nrows=30)\n",
    "b3 = pd.read_csv('files/Bad3.csv', nrows=30)\n",
    "b4 = pd.read_csv('files/Bad4.csv', nrows=30)\n",
    "b5 = pd.read_csv('files/Bad5.csv', nrows=30)\n",
    "b6 = pd.read_csv('files/Bad6.csv', nrows=30)\n",
    "b7 = pd.read_csv('files/Bad7.csv', nrows=30)\n",
    "b8 = pd.read_csv('files/Bad8.csv', nrows=30)\n",
    "b9 = pd.read_csv('files/Bad9.csv', nrows=30)\n",
    "b10 = pd.read_csv('files/Bad10.csv', nrows=30)\n",
    "b11 = pd.read_csv('files/Bad11.csv', nrows=30)\n",
    "b12 = pd.read_csv('files/Bad12.csv', nrows=30)\n",
    "b13 = pd.read_csv('files/Bad13.csv', nrows=30)\n",
    "b14 = pd.read_csv('files/Bad14.csv', nrows=30)\n",
    "b15 = pd.read_csv('files/Bad15.csv', nrows=30)\n",
    "b16 = pd.read_csv('files/Bad16.csv', nrows=30)\n",
    "b17 = pd.read_csv('files/Bad17.csv', nrows=30)\n",
    "b18 = pd.read_csv('files/Bad18.csv', nrows=30)\n",
    "b19 = pd.read_csv('files/Bad19.csv', nrows=30)\n",
    "b20 = pd.read_csv('files/Bad20.csv', nrows=30)"
   ]
  },
  {
   "cell_type": "markdown",
   "metadata": {},
   "source": [
    "***Data preprocessing***"
   ]
  },
  {
   "cell_type": "code",
   "execution_count": 33,
   "metadata": {},
   "outputs": [],
   "source": [
    "# Select mean because mean has a cluster cleary. (Compare between 'mean', 'mean', 'S.D.')\n",
    "# Create new dataframe\n",
    "\n",
    "heat = [\n",
    "    np.mean(g1['HeatDmd']), np.mean(g2['HeatDmd']), np.mean(g3['HeatDmd']), np.mean(g4['HeatDmd']),\n",
    "    np.mean(g5['HeatDmd']), np.mean(g6['HeatDmd']), np.mean(g7['HeatDmd']), np.mean(g8['HeatDmd']),\n",
    "    np.mean(g9['HeatDmd']), np.mean(g10['HeatDmd']), np.mean(g11['HeatDmd']), np.mean(g12['HeatDmd']),\n",
    "    np.mean(g13['HeatDmd']), np.mean(g14['HeatDmd']), np.mean(g15['HeatDmd']), np.mean(g16['HeatDmd']),\n",
    "    np.mean(g17['HeatDmd']), np.mean(g18['HeatDmd']), np.mean(g19['HeatDmd']), np.mean(g20['HeatDmd']),\n",
    "    np.mean(g21['HeatDmd']), np.mean(g22['HeatDmd']), np.mean(g23['HeatDmd']), np.mean(g24['HeatDmd']),\n",
    "    np.mean(g25['HeatDmd']), np.mean(g26['HeatDmd']),  np.mean(g27['HeatDmd']), np.mean(g28['HeatDmd']),\n",
    "    np.mean(g29['HeatDmd']),\n",
    "    np.mean(g30['HeatDmd']), np.mean(b1['HeatDmd']), np.mean(b2['HeatDmd']), np.mean(b3['HeatDmd']),\n",
    "    np.mean(b4['HeatDmd']), np.mean(b5['HeatDmd']), np.mean(b6['HeatDmd']), np.mean(b7['HeatDmd']),\n",
    "    np.mean(b8['HeatDmd']), np.mean(b9['HeatDmd']), np.mean(b10['HeatDmd']), np.mean(b11['HeatDmd']),\n",
    "    np.mean(b12['HeatDmd']), np.mean(b13['HeatDmd']), np.mean(b14['HeatDmd']), np.mean(b15['HeatDmd']),\n",
    "    np.mean(b16['HeatDmd']), np.mean(b17['HeatDmd']), np.mean(b18['HeatDmd']), np.mean(b19['HeatDmd']),\n",
    "    np.mean(b20['HeatDmd']),\n",
    "]\n",
    "\n",
    "cool = [\n",
    "    np.mean(g1['CoolDmd']), np.mean(g2['CoolDmd']), np.mean(g3['CoolDmd']), np.mean(g4['CoolDmd']),\n",
    "    np.mean(g5['CoolDmd']), np.mean(g6['CoolDmd']), np.mean(g7['CoolDmd']), np.mean(g8['CoolDmd']),\n",
    "    np.mean(g9['CoolDmd']), np.mean(g10['CoolDmd']), np.mean(g11['CoolDmd']), np.mean(g12['CoolDmd']),\n",
    "    np.mean(g13['CoolDmd']), np.mean(g14['CoolDmd']), np.mean(g15['CoolDmd']), np.mean(g16['CoolDmd']),\n",
    "    np.mean(g17['CoolDmd']), np.mean(g18['CoolDmd']), np.mean(g19['CoolDmd']), np.mean(g20['CoolDmd']),\n",
    "    np.mean(g21['CoolDmd']), np.mean(g22['CoolDmd']), np.mean(g23['CoolDmd']), np.mean(g24['CoolDmd']),\n",
    "    np.mean(g25['CoolDmd']), np.mean(g26['CoolDmd']),  np.mean(g27['CoolDmd']), np.mean(g28['CoolDmd']),\n",
    "    np.mean(g29['CoolDmd']),\n",
    "    np.mean(g30['CoolDmd']), np.mean(b1['CoolDmd']), np.mean(b2['CoolDmd']), np.mean(b3['CoolDmd']),\n",
    "    np.mean(b4['CoolDmd']), np.mean(b5['CoolDmd']), np.mean(b6['CoolDmd']), np.mean(b7['CoolDmd']),\n",
    "    np.mean(b8['CoolDmd']), np.mean(b9['CoolDmd']), np.mean(b10['CoolDmd']), np.mean(b11['CoolDmd']),\n",
    "    np.mean(b12['CoolDmd']), np.mean(b13['CoolDmd']), np.mean(b14['CoolDmd']), np.mean(b15['CoolDmd']),\n",
    "    np.mean(b16['CoolDmd']), np.mean(b17['CoolDmd']), np.mean(b18['CoolDmd']), np.mean(b19['CoolDmd']),\n",
    "    np.mean(b20['CoolDmd']),\n",
    "]\n",
    "\n",
    "temp = [\n",
    "    np.mean(g1['FlowTemp_Tenths']), np.mean(g2['FlowTemp_Tenths']), np.mean(g3['FlowTemp_Tenths']), np.mean(g4['FlowTemp_Tenths']),\n",
    "    np.mean(g5['FlowTemp_Tenths']), np.mean(g6['FlowTemp_Tenths']), np.mean(g7['FlowTemp_Tenths']), np.mean(g8['FlowTemp_Tenths']),\n",
    "    np.mean(g9['FlowTemp_Tenths']), np.mean(g10['FlowTemp_Tenths']), np.mean(g11['FlowTemp_Tenths']), np.mean(g12['FlowTemp_Tenths']),\n",
    "    np.mean(g13['FlowTemp_Tenths']), np.mean(g14['FlowTemp_Tenths']), np.mean(g15['FlowTemp_Tenths']), np.mean(g16['FlowTemp_Tenths']),\n",
    "    np.mean(g17['FlowTemp_Tenths']), np.mean(g18['FlowTemp_Tenths']), np.mean(g19['FlowTemp_Tenths']), np.mean(g20['FlowTemp_Tenths']),\n",
    "    np.mean(g21['FlowTemp_Tenths']), np.mean(g22['FlowTemp_Tenths']), np.mean(g23['FlowTemp_Tenths']), np.mean(g24['FlowTemp_Tenths']),\n",
    "    np.mean(g25['FlowTemp_Tenths']), np.mean(g26['FlowTemp_Tenths']),  np.mean(g27['FlowTemp_Tenths']), np.mean(g28['FlowTemp_Tenths']),\n",
    "    np.mean(g29['FlowTemp_Tenths']),\n",
    "    np.mean(g30['FlowTemp_Tenths']), np.mean(b1['FlowTemp_Tenths']), np.mean(b2['FlowTemp_Tenths']), np.mean(b3['FlowTemp_Tenths']),\n",
    "    np.mean(b4['FlowTemp_Tenths']), np.mean(b5['FlowTemp_Tenths']), np.mean(b6['FlowTemp_Tenths']), np.mean(b7['FlowTemp_Tenths']),\n",
    "    np.mean(b8['FlowTemp_Tenths']), np.mean(b9['FlowTemp_Tenths']), np.mean(b10['FlowTemp_Tenths']), np.mean(b11['FlowTemp_Tenths']),\n",
    "    np.mean(b12['FlowTemp_Tenths']), np.mean(b13['FlowTemp_Tenths']), np.mean(b14['FlowTemp_Tenths']), np.mean(b15['FlowTemp_Tenths']),\n",
    "    np.mean(b16['FlowTemp_Tenths']), np.mean(b17['FlowTemp_Tenths']), np.mean(b18['FlowTemp_Tenths']), np.mean(b19['FlowTemp_Tenths']),\n",
    "    np.mean(b20['FlowTemp_Tenths']),\n",
    "]\n",
    "\n",
    "CellTotalHeater_mA  = [\n",
    "    np.mean(g1['CellTotalHeater_mA']), np.mean(g2['CellTotalHeater_mA']), np.mean(g3['CellTotalHeater_mA']), np.mean(g4['CellTotalHeater_mA']),\n",
    "    np.mean(g5['CellTotalHeater_mA']), np.mean(g6['CellTotalHeater_mA']), np.mean(g7['CellTotalHeater_mA']), np.mean(g8['CellTotalHeater_mA']),\n",
    "    np.mean(g9['CellTotalHeater_mA']), np.mean(g10['CellTotalHeater_mA']), np.mean(g11['CellTotalHeater_mA']), np.mean(g12['CellTotalHeater_mA']),\n",
    "    np.mean(g13['CellTotalHeater_mA']), np.mean(g14['CellTotalHeater_mA']), np.mean(g15['CellTotalHeater_mA']), np.mean(g16['CellTotalHeater_mA']),\n",
    "    np.mean(g17['CellTotalHeater_mA']), np.mean(g18['CellTotalHeater_mA']), np.mean(g19['CellTotalHeater_mA']), np.mean(g20['CellTotalHeater_mA']),\n",
    "    np.mean(g21['CellTotalHeater_mA']), np.mean(g22['CellTotalHeater_mA']), np.mean(g23['CellTotalHeater_mA']), np.mean(g24['CellTotalHeater_mA']),\n",
    "    np.mean(g25['CellTotalHeater_mA']), np.mean(g26['CellTotalHeater_mA']),  np.mean(g27['CellTotalHeater_mA']), np.mean(g28['CellTotalHeater_mA']),\n",
    "    np.mean(g29['CellTotalHeater_mA']),\n",
    "    np.mean(g30['CellTotalHeater_mA']), np.mean(b1['CellTotalHeater_mA']), np.mean(b2['CellTotalHeater_mA']), np.mean(b3['CellTotalHeater_mA']),\n",
    "    np.mean(b4['CellTotalHeater_mA']), np.mean(b5['CellTotalHeater_mA']), np.mean(b6['CellTotalHeater_mA']), np.mean(b7['CellTotalHeater_mA']),\n",
    "    np.mean(b8['CellTotalHeater_mA']), np.mean(b9['CellTotalHeater_mA']), np.mean(b10['CellTotalHeater_mA']), np.mean(b11['CellTotalHeater_mA']),\n",
    "    np.mean(b12['CellTotalHeater_mA']), np.mean(b13['CellTotalHeater_mA']), np.mean(b14['CellTotalHeater_mA']), np.mean(b15['CellTotalHeater_mA']),\n",
    "    np.mean(b16['CellTotalHeater_mA']), np.mean(b17['CellTotalHeater_mA']), np.mean(b18['CellTotalHeater_mA']), np.mean(b19['CellTotalHeater_mA']),\n",
    "    np.mean(b20['CellTotalHeater_mA']),\n",
    "]\n",
    "\n",
    "# 0 is Bad, 1 is Good\n",
    "result = [1,1,1,1,1,1,1,1,1,1,1,1,1,1,1,1,1,1,1,1,1,1,1,1,1,1,1,1,1,1,0,0,0,0,0,0,0,0,0,0,0,0,0,0,0,0,0,0,0,0]\n",
    "\n",
    "df1 = {'HeatDmd': heat, 'CoolDmd': cool, 'Temp': temp, 'CellTotalHeater_mA': CellTotalHeater_mA, 'Output': result}\n",
    "df = pd.DataFrame(df1)"
   ]
  },
  {
   "cell_type": "code",
   "execution_count": null,
   "metadata": {},
   "outputs": [],
   "source": [
    "df.head(50)"
   ]
  },
  {
   "cell_type": "code",
   "execution_count": 34,
   "metadata": {},
   "outputs": [
    {
     "data": {
      "image/png": "[encoded data removed]",
      "text/plain": [
       "<Figure size 2000x500 with 4 Axes>"
      ]
     },
     "metadata": {},
     "output_type": "display_data"
    }
   ],
   "source": [
    "# Compare clustering for 3 variables\n",
    "\n",
    "fig, axs = plt.subplots(1,4, figsize=(20,5))\n",
    "fig.suptitle('S.D.', fontsize=16)\n",
    "\n",
    "sns.scatterplot(ax=axs[0], data=df, x=df['HeatDmd'].index, y='HeatDmd', edgecolor='black')\n",
    "axs[0].set_xlabel('sampling data')\n",
    "axs[0].set_ylabel('HeatDmd')\n",
    "axs[0].set_title('HeatDmd')\n",
    "\n",
    "sns.scatterplot(ax=axs[1], data=df, x=df['CoolDmd'].index, y='CoolDmd', edgecolor='black')\n",
    "axs[1].set_xlabel('sampling data')\n",
    "axs[1].set_ylabel('CoolDmd')\n",
    "axs[1].set_title('CoolDmd')\n",
    "\n",
    "sns.scatterplot(ax=axs[2], data=df, x=df['Temp'].index, y='Temp', edgecolor='black')\n",
    "axs[2].set_xlabel('sampling data')\n",
    "axs[2].set_ylabel('Temperature')\n",
    "axs[2].set_title('Temp')\n",
    "\n",
    "sns.scatterplot(ax=axs[3], data=df, x=df['CellTotalHeater_mA'].index, y='CellTotalHeater_mA', edgecolor='black')\n",
    "axs[3].set_xlabel('sampling data')\n",
    "axs[3].set_ylabel('CellTotalHeater_mA')\n",
    "axs[3].set_title('CellTotalHeater_mA')\n",
    "\n",
    "plt.subplots_adjust(wspace=0.3) \n",
    "plt.show()"
   ]
  },
  {
   "cell_type": "code",
   "execution_count": null,
   "metadata": {},
   "outputs": [],
   "source": [
    "# Separate inputs and output\n",
    "X = df.drop(columns='Output') #Inputs are HeatDmd, CoolDmd, and Temp\n",
    "Y = df['Output'] # Output is Good or Bad (Binary classification)\n",
    "\n",
    "# Data Normalization\n",
    "sc = StandardScaler() # select standard (z-score)\n",
    "sc.fit(X)\n",
    "X_sc = sc.transform(X)\n",
    "\n",
    "x_train, x_test, y_train, y_test = train_test_split(X_sc, Y, test_size=0.2, random_state=42)"
   ]
  },
  {
   "cell_type": "markdown",
   "metadata": {},
   "source": [
    "***Train model***"
   ]
  },
  {
   "cell_type": "code",
   "execution_count": null,
   "metadata": {},
   "outputs": [],
   "source": [
    "# Logistic regression\n",
    "lr = LogisticRegression()\n",
    "lr.fit(x_train, y_train)\n",
    "\n",
    "# KNN\n",
    "knn = KNeighborsClassifier(n_neighbors=5)\n",
    "knn.fit(x_train, y_train)\n",
    "\n",
    "# Decision tree\n",
    "tree = DecisionTreeClassifier()\n",
    "tree.fit(x_train, y_train)\n",
    "\n",
    "# SVM\n",
    "svm = SVC(gamma='auto')\n",
    "svm.fit(x_train, y_train)\n",
    "\n",
    "# Naive bay\n",
    "naive = GaussianNB()\n",
    "naive.fit(x_train, y_train)\n",
    "\n"
   ]
  },
  {
   "cell_type": "markdown",
   "metadata": {},
   "source": [
    "***Evaluation***"
   ]
  },
  {
   "cell_type": "code",
   "execution_count": null,
   "metadata": {},
   "outputs": [],
   "source": [
    "# Logistic regression\n",
    "lr_predict = lr.predict(x_test)\n",
    "lr_acc = accuracy_score(y_true=y_test, y_pred=lr_predict)\n",
    "\n",
    "# KNN\n",
    "knn_predict = knn.predict(x_test)\n",
    "knn_acc = accuracy_score(y_true=y_test, y_pred=knn_predict)\n",
    "\n",
    "# Decision tree\n",
    "tree_predict = tree.predict(x_test)\n",
    "tree_acc = accuracy_score(y_true=y_test, y_pred=tree_predict)\n",
    "\n",
    "# SVM\n",
    "svm_predict = svm.predict(x_test)\n",
    "svm_acc = accuracy_score(y_true=y_test, y_pred=svm_predict)\n",
    "\n",
    "# Naive bay\n",
    "naive_predict = naive.predict(x_test)\n",
    "naive_acc = accuracy_score(y_true=y_test, y_pred=naive_predict)\n",
    "\n",
    "print ('Logisitic = %.2f, KNN = %.2f, Tree = %.2f, SVMM = %.2f , Naive = %.2f' %(lr_acc*100, knn_acc*100, tree_acc*100, svm_acc*100, naive_acc*100))"
   ]
  },
  {
   "cell_type": "code",
   "execution_count": null,
   "metadata": {},
   "outputs": [],
   "source": [
    "fig, axs = plt.subplots(1,5, figsize=(20,5))\n",
    "\n",
    "# Logistic regression\n",
    "lr_cm = confusion_matrix(y_test, lr_predict, labels=lr.classes_)\n",
    "disp = ConfusionMatrixDisplay(confusion_matrix=lr_cm,\n",
    "                              display_labels=lr.classes_)\n",
    "disp.plot(ax=axs[0])\n",
    "axs[0].set_title(f'Logistic = {lr_acc*100}')\n",
    "\n",
    "# KNN\n",
    "knn_cm = confusion_matrix(y_test, knn_predict, labels=knn.classes_)\n",
    "disp = ConfusionMatrixDisplay(confusion_matrix=knn_cm,\n",
    "                              display_labels=knn.classes_)\n",
    "disp.plot(ax=axs[1])\n",
    "axs[1].set_title(f'KNN = {knn_acc*100}')\n",
    "\n",
    "# Decision tree\n",
    "tree_cm = confusion_matrix(y_test, tree_predict, labels=tree.classes_)\n",
    "disp = ConfusionMatrixDisplay(confusion_matrix=tree_cm,\n",
    "                              display_labels=tree.classes_)\n",
    "disp.plot(ax=axs[2])\n",
    "axs[2].set_title(f'Tree = {tree_acc*100}')\n",
    "\n",
    "# SVM\n",
    "svm_cm = confusion_matrix(y_test, svm_predict, labels=svm.classes_)\n",
    "disp = ConfusionMatrixDisplay(confusion_matrix=svm_cm,\n",
    "                              display_labels=svm.classes_)\n",
    "disp.plot(ax=axs[3])\n",
    "axs[3].set_title(f'SVM = {svm_acc*100}')\n",
    "\n",
    "# Naive bay\n",
    "naive_cm = confusion_matrix(y_test, naive_predict, labels=naive.classes_)\n",
    "disp = ConfusionMatrixDisplay(confusion_matrix=naive_cm,\n",
    "                              display_labels=naive.classes_)\n",
    "disp.plot(ax=axs[4])\n",
    "axs[4].set_title(f'Naive = {naive_acc*100}')\n",
    "\n",
    "\n",
    "plt.show()"
   ]
  },
  {
   "cell_type": "markdown",
   "metadata": {},
   "source": [
    "***Test model***"
   ]
  },
  {
   "cell_type": "code",
   "execution_count": null,
   "metadata": {},
   "outputs": [],
   "source": [
    "testFile = pd.read_csv('test/B1.csv', nrows=30)"
   ]
  },
  {
   "cell_type": "code",
   "execution_count": null,
   "metadata": {},
   "outputs": [],
   "source": [
    "heatTest = [np.mean(testFile['HeatDmd'])]\n",
    "coolTest = [np.mean(testFile['CoolDmd'])]\n",
    "tempTest = [np.mean(testFile['FlowTemp_Tenths'])]\n",
    "\n",
    "dfDic = {'HeatDmd': heatTest, 'CoolDmd': coolTest, 'Temp': tempTest}\n",
    "dfTest = pd.DataFrame(dfDic)\n",
    "\n",
    "dfTestSC = sc.transform(dfTest)\n",
    "predictionTest = lr.predict(dfTestSC)\n",
    "print(predictionTest)"
   ]
  }
 ],
 "metadata": {
  "kernelspec": {
   "display_name": "env",
   "language": "python",
   "name": "python3"
  },
  "language_info": {
   "codemirror_mode": {
    "name": "ipython",
    "version": 3
   },
   "file_extension": ".py",
   "mimetype": "text/x-python",
   "name": "python",
   "nbconvert_exporter": "python",
   "pygments_lexer": "ipython3",
   "version": "3.10.0"
  }
 },
 "nbformat": 4,
 "nbformat_minor": 2
}
